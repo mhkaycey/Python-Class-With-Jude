{
 "metadata": {
  "language_info": {
   "codemirror_mode": {
    "name": "ipython",
    "version": 3
   },
   "file_extension": ".py",
   "mimetype": "text/x-python",
   "name": "python",
   "nbconvert_exporter": "python",
   "pygments_lexer": "ipython3",
   "version": 3
  },
  "orig_nbformat": 2,
  "kernelspec": {
   "name": "python_defaultSpec_1596878952602",
   "display_name": "Python 3.8.5 32-bit"
  }
 },
 "nbformat": 4,
 "nbformat_minor": 2,
 "cells": [
  {
   "cell_type": "code",
   "execution_count": 13,
   "metadata": {
    "tags": []
   },
   "outputs": [
    {
     "output_type": "stream",
     "name": "stdout",
     "text": "monday is Weekend\n"
    }
   ],
   "source": [
    "weekday = input(\"Enter is the weekday:\")\n",
    "if weekday == \"Monday\":\n",
    "    print(weekday + \" is Weekday\")\n",
    "elif weekday ==\"Tuesday\":\n",
    "    print(weekday + \" is Weekday\")\n",
    "elif weekday == \"Wedensday\":\n",
    "    print(weekday + \" is Weekday\")\n",
    "elif weekday == \"Thursday\":\n",
    "    print(weekday + \" is Weekday\")\n",
    "else:\n",
    "    print(weekday + \" is Weekend\")"
   ]
  },
  {
   "cell_type": "code",
   "execution_count": 12,
   "metadata": {
    "tags": []
   },
   "outputs": [
    {
     "output_type": "stream",
     "name": "stdout",
     "text": "5 is a prime number\n"
    }
   ],
   "source": [
    "num = int(input(\"Enter your any number\"))\n",
    "if num > 1:\n",
    "    for i in range(2, num):\n",
    "        if (num % i) == 0:\n",
    "            print(num, \"is not a prime number\")\n",
    "            break\n",
    "    else:\n",
    "        print(num, \"is a prime number\")\n",
    "\n"
   ]
  },
  {
   "cell_type": "code",
   "execution_count": 175,
   "metadata": {},
   "outputs": [],
   "source": [
    "me = (1, 4.0, 'home')"
   ]
  },
  {
   "cell_type": "code",
   "execution_count": 176,
   "metadata": {},
   "outputs": [
    {
     "output_type": "execute_result",
     "data": {
      "text/plain": "tuple"
     },
     "metadata": {},
     "execution_count": 176
    }
   ],
   "source": [
    "type(me)"
   ]
  },
  {
   "cell_type": "code",
   "execution_count": 82,
   "metadata": {},
   "outputs": [
    {
     "output_type": "execute_result",
     "data": {
      "text/plain": "list"
     },
     "metadata": {},
     "execution_count": 82
    }
   ],
   "source": [
    "i = [1,4, 8]\n",
    "type(i)"
   ]
  },
  {
   "cell_type": "code",
   "execution_count": 184,
   "metadata": {
    "tags": []
   },
   "outputs": [
    {
     "output_type": "stream",
     "name": "stdout",
     "text": "500500\n"
    }
   ],
   "source": [
    "#na = 1000\n",
    "total = 0\n",
    "for a in range(0, 1001):\n",
    "    total = total+a\n",
    "print(total)\n",
    " "
   ]
  },
  {
   "cell_type": "code",
   "execution_count": 43,
   "metadata": {
    "tags": []
   },
   "outputs": [
    {
     "output_type": "stream",
     "name": "stdout",
     "text": "3.8.5\n"
    }
   ],
   "source": [
    "from platform import python_version\n",
    "print(python_version())\n"
   ]
  },
  {
   "cell_type": "code",
   "execution_count": 112,
   "metadata": {
    "tags": []
   },
   "outputs": [
    {
     "output_type": "stream",
     "name": "stdout",
     "text": "Average of  2  numbers is : 26.0\n"
    }
   ],
   "source": [
    "num = int(input('How many numbers: '))\n",
    "total_sum = 0\n",
    "for n in range(num):\n",
    "    numbers = float(input('Enter number : '))\n",
    "    total_sum += numbers\n",
    "    \n",
    "    avg = total_sum/num\n",
    "print('Average of ', num, ' numbers is :', avg)"
   ]
  },
  {
   "cell_type": "code",
   "execution_count": 171,
   "metadata": {
    "tags": []
   },
   "outputs": [
    {
     "output_type": "stream",
     "name": "stdout",
     "text": "The average of 100 with 33 is 3.0303030303030303\n"
    }
   ],
   "source": [
    "numb = int(input(\"Enter the number to use and get the average of 100:\"))\n",
    "for a in range(0,101):\n",
    "    total = a / numb\n",
    "print(\"The average of 100 with\", numb, \"is :\", total)\n",
    " "
   ]
  },
  {
   "cell_type": "code",
   "execution_count": 265,
   "metadata": {
    "tags": []
   },
   "outputs": [
    {
     "output_type": "stream",
     "name": "stdout",
     "text": "1\n3\n5\n7\n9\n11\n13\n15\n17\n19\n21\n23\n25\n27\n29\n31\n33\n35\n37\n39\n41\n43\n45\n47\n49\nThe sum of odd number less than 50 is 625\n"
    }
   ],
   "source": [
    "no = int(input(\"Enter the number: \"))\n",
    "to = 0\n",
    "for i in range(0,no,1):\n",
    "     if(i % 2 !=0):\n",
    "        to = to+i\n",
    "        print(i)\n",
    "print(\"The sum of odd number less than\", no, \"is\", to)\n"
   ]
  },
  {
   "cell_type": "code",
   "execution_count": 258,
   "metadata": {
    "tags": []
   },
   "outputs": [
    {
     "output_type": "error",
     "ename": "IndentationError",
     "evalue": "expected an indented block (<ipython-input-258-fed067b19362>, line 6)",
     "traceback": [
      "\u001b[1;36m  File \u001b[1;32m\"<ipython-input-258-fed067b19362>\"\u001b[1;36m, line \u001b[1;32m6\u001b[0m\n\u001b[1;33m    print(\"SUM of first \", n, \"numbers is: \", num )\u001b[0m\n\u001b[1;37m    ^\u001b[0m\n\u001b[1;31mIndentationError\u001b[0m\u001b[1;31m:\u001b[0m expected an indented block\n"
     ]
    }
   ],
   "source": [
    "n = 1000\n",
    "sum = 0\n",
    "for num in range(0, n+1, 1):\n",
    "   # if num % 2 !=0\n",
    "       # sum = sum+num\n",
    "print(\"SUM of first \", n, \"numbers is: \", num )"
   ]
  },
  {
   "cell_type": "code",
   "execution_count": 252,
   "metadata": {
    "tags": []
   },
   "outputs": [
    {
     "output_type": "stream",
     "name": "stdout",
     "text": "1\n3\n5\n7\n9\n25\n"
    }
   ],
   "source": [
    "n = 10\n",
    "a =0\n",
    "for nu in range(n):\n",
    "    if(nu % 2 !=0):\n",
    "        print(nu)\n",
    "        a = (a+nu)\n",
    "print(a)"
   ]
  },
  {
   "cell_type": "code",
   "execution_count": 266,
   "metadata": {
    "tags": []
   },
   "outputs": [
    {
     "output_type": "stream",
     "name": "stdout",
     "text": "('green', 'red', 'blue')\n"
    }
   ],
   "source": [
    "tuple1 = (\"green\", \"red\", \"blue\") # Create a tuple\n",
    "print(tuple1)"
   ]
  },
  {
   "cell_type": "code",
   "execution_count": 268,
   "metadata": {
    "tags": []
   },
   "outputs": [
    {
     "output_type": "stream",
     "name": "stdout",
     "text": "(7, 1, 2, 23, 4, 5)\n"
    }
   ],
   "source": [
    "tuple2 = tuple([7, 1, 2, 23, 4, 5]) # Create a tuple from a list\n",
    "print(tuple2)"
   ]
  },
  {
   "cell_type": "code",
   "execution_count": null,
   "metadata": {},
   "outputs": [],
   "source": []
  }
 ]
}